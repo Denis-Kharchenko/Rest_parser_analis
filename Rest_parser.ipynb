{
 "cells": [
  {
   "cell_type": "code",
   "execution_count": 1,
   "id": "ff3141a8",
   "metadata": {},
   "outputs": [],
   "source": [
    "import csv\n",
    "import json\n",
    "from bs4 import BeautifulSoup\n",
    "import requests\n",
    "import lxml\n",
    "\n",
    "url = 'https://www.restoclub.ru/spb/ratings'\n",
    "headers = {'Accept': '*/*',\n",
    "           'User-agent': 'Mozilla/5.0 (Windows NT 10.0; Win64; x64) AppleWebKit/537.36 (KHTML, like Gecko) Chrome/106.0.0.0 YaBrowser/22.11.5.715 Yowser/2.5 Safari/537.36'}\n",
    "#\n",
    "# Достаем ссылку на сайт\n",
    "\n",
    "req = requests.get(url,headers=headers)\n",
    "src = req.text\n"
   ]
  },
  {
   "cell_type": "code",
   "execution_count": 4,
   "id": "edb706b9",
   "metadata": {},
   "outputs": [],
   "source": [
    "soup = BeautifulSoup(src,\"html.parser\")"
   ]
  },
  {
   "cell_type": "code",
   "execution_count": 95,
   "id": "e0672189",
   "metadata": {},
   "outputs": [
    {
     "data": {
      "text/plain": [
       "['https://www.restoclub.ru/spb/ratings/russkaja-kuhnja-top-10',\n",
       " 'https://www.restoclub.ru/spb/ratings/authors-cuisine',\n",
       " 'https://www.restoclub.ru/spb/ratings/rejting-italjanskih-restoranov',\n",
       " 'https://www.restoclub.ru/spb/ratings/rejting-vostochnyh-zavedenij',\n",
       " 'https://www.restoclub.ru/spb/ratings/rejting-kavkazskih-zavedenij',\n",
       " 'https://www.restoclub.ru/spb/ratings/rejting-japonskih-mest',\n",
       " 'https://www.restoclub.ru/spb/ratings/rejting-kitajskih-zavedenij',\n",
       " 'https://www.restoclub.ru/spb/ratings/luchshie-stejki',\n",
       " 'https://www.restoclub.ru/spb/ratings/luchshie-iz-nedorogih',\n",
       " 'https://www.restoclub.ru/spb/ratings/reiting-vegetarianskih-kafe-i-restoranov',\n",
       " 'https://www.restoclub.ru/spb/ratings/rejting-zagorodnyh-restoranov',\n",
       " 'https://www.restoclub.ru/spb/ratings/reiting-kofeen-v-peterburge',\n",
       " 'https://www.restoclub.ru/spb/ratings/vinoteki-i-vinnye-restorany',\n",
       " 'https://www.restoclub.ru/spb/ratings/rejting-barov-peterburga',\n",
       " 'https://www.restoclub.ru/spb/ratings/rejting-pivnyh-zavedenij',\n",
       " 'https://www.restoclub.ru/spb/ratings/rejting-vip-restoranov',\n",
       " 'https://www.restoclub.ru/spb/ratings/rejting-streetfood-zavedenij',\n",
       " 'https://www.restoclub.ru/spb/ratings/top-10-gde-smotret-futbol',\n",
       " 'https://www.restoclub.ru/spb/ratings/rejting-kaliannih-peterburga',\n",
       " 'https://www.restoclub.ru/spb/ratings/best-asian-places',\n",
       " 'https://www.restoclub.ru/spb/ratings/familytime',\n",
       " 'https://www.restoclub.ru/spb/ratings/rejting-380-restoranov']"
      ]
     },
     "execution_count": 95,
     "metadata": {},
     "output_type": "execute_result"
    }
   ],
   "source": [
    "all_next_10_list_href = []\n",
    "all_next_10_html = soup.find(class_=\"page-ratings__list\").find_all(\"a\")\n",
    "all_next_10_html\n",
    "for next_10 in all_next_10_html:\n",
    "    next_10_href = next_10.get('href')\n",
    "    if next_10_href[5] == 'r':\n",
    "        next_10_href = 'https://www.restoclub.ru'+next_10.get('href')\n",
    "        all_next_10_list_href.append(next_10_href)\n",
    "all_next_10_list_href"
   ]
  },
  {
   "cell_type": "code",
   "execution_count": 41,
   "id": "31b32973",
   "metadata": {},
   "outputs": [
    {
     "data": {
      "text/plain": [
       "['Русские рестораны',\n",
       " 'Авторские рестораны',\n",
       " 'Итальянские рестораны',\n",
       " 'Восточные рестораны',\n",
       " 'Кавказские рестораны',\n",
       " 'Японские рестораны и суши-бары',\n",
       " 'Китайские рестораны',\n",
       " 'Где есть стейки',\n",
       " 'Недорогие рестораны и кафе',\n",
       " 'Вегетарианские кафе и рестораны',\n",
       " 'Загородные рестораны',\n",
       " 'Кофейни',\n",
       " 'Винотеки и винные рестораны',\n",
       " 'Бары',\n",
       " 'Пивные рестораны и пабы',\n",
       " 'Рестораны премиум-класса',\n",
       " 'Стритфуд',\n",
       " 'Рестораны с прямыми спортивными трансляциями',\n",
       " 'Кальянные',\n",
       " 'Азиатские кафе и рестораны',\n",
       " 'Семейные рестораны',\n",
       " 'Панорамные рестораны']"
      ]
     },
     "execution_count": 41,
     "metadata": {},
     "output_type": "execute_result"
    }
   ],
   "source": [
    "all_next_10_name = soup.find_all('h3')\n",
    "all_next_10_name = all_next_10_name[:-5]\n",
    "all_next_10_name_text = []\n",
    "for name in all_next_10_name:\n",
    "    name_text = name.text\n",
    "    all_next_10_name_text.append(name_text)\n",
    "all_next_10_name_text"
   ]
  },
  {
   "cell_type": "code",
   "execution_count": 110,
   "id": "b746424e",
   "metadata": {
    "scrolled": true
   },
   "outputs": [
    {
     "data": {
      "text/plain": [
       "{'Русские рестораны': 'https://www.restoclub.ru/spb/ratings/russkaja-kuhnja-top-10',\n",
       " 'Авторские рестораны': 'https://www.restoclub.ru/spb/ratings/authors-cuisine',\n",
       " 'Итальянские рестораны': 'https://www.restoclub.ru/spb/ratings/rejting-italjanskih-restoranov',\n",
       " 'Восточные рестораны': 'https://www.restoclub.ru/spb/ratings/rejting-vostochnyh-zavedenij',\n",
       " 'Кавказские рестораны': 'https://www.restoclub.ru/spb/ratings/rejting-kavkazskih-zavedenij',\n",
       " 'Японские рестораны и суши-бары': 'https://www.restoclub.ru/spb/ratings/rejting-japonskih-mest',\n",
       " 'Китайские рестораны': 'https://www.restoclub.ru/spb/ratings/rejting-kitajskih-zavedenij',\n",
       " 'Где есть стейки': 'https://www.restoclub.ru/spb/ratings/luchshie-stejki',\n",
       " 'Недорогие рестораны и кафе': 'https://www.restoclub.ru/spb/ratings/luchshie-iz-nedorogih',\n",
       " 'Вегетарианские кафе и рестораны': 'https://www.restoclub.ru/spb/ratings/reiting-vegetarianskih-kafe-i-restoranov',\n",
       " 'Загородные рестораны': 'https://www.restoclub.ru/spb/ratings/rejting-zagorodnyh-restoranov',\n",
       " 'Кофейни': 'https://www.restoclub.ru/spb/ratings/reiting-kofeen-v-peterburge',\n",
       " 'Винотеки и винные рестораны': 'https://www.restoclub.ru/spb/ratings/vinoteki-i-vinnye-restorany',\n",
       " 'Бары': 'https://www.restoclub.ru/spb/ratings/rejting-barov-peterburga',\n",
       " 'Пивные рестораны и пабы': 'https://www.restoclub.ru/spb/ratings/rejting-pivnyh-zavedenij',\n",
       " 'Рестораны премиум-класса': 'https://www.restoclub.ru/spb/ratings/rejting-vip-restoranov',\n",
       " 'Стритфуд': 'https://www.restoclub.ru/spb/ratings/rejting-streetfood-zavedenij',\n",
       " 'Рестораны с прямыми спортивными трансляциями': 'https://www.restoclub.ru/spb/ratings/top-10-gde-smotret-futbol',\n",
       " 'Кальянные': 'https://www.restoclub.ru/spb/ratings/rejting-kaliannih-peterburga',\n",
       " 'Азиатские кафе и рестораны': 'https://www.restoclub.ru/spb/ratings/best-asian-places',\n",
       " 'Семейные рестораны': 'https://www.restoclub.ru/spb/ratings/familytime',\n",
       " 'Панорамные рестораны': 'https://www.restoclub.ru/spb/ratings/rejting-380-restoranov'}"
      ]
     },
     "execution_count": 110,
     "metadata": {},
     "output_type": "execute_result"
    }
   ],
   "source": [
    "zip_all_catig = dict(zip(all_next_10_name_text,all_next_10_list_href))\n",
    "zip_all_catig"
   ]
  },
  {
   "cell_type": "code",
   "execution_count": null,
   "id": "2bc073c8",
   "metadata": {},
   "outputs": [],
   "source": []
  },
  {
   "cell_type": "code",
   "execution_count": 118,
   "id": "b3b3a537",
   "metadata": {},
   "outputs": [
    {
     "ename": "NameError",
     "evalue": "name 'tr' is not defined",
     "output_type": "error",
     "traceback": [
      "\u001b[1;31m---------------------------------------------------------------------------\u001b[0m",
      "\u001b[1;31mNameError\u001b[0m                                 Traceback (most recent call last)",
      "Input \u001b[1;32mIn [118]\u001b[0m, in \u001b[0;36m<cell line: 2>\u001b[1;34m()\u001b[0m\n\u001b[0;32m      6\u001b[0m src \u001b[38;5;241m=\u001b[39m req\u001b[38;5;241m.\u001b[39mtext\n\u001b[0;32m      7\u001b[0m soup \u001b[38;5;241m=\u001b[39m BeautifulSoup(src,\u001b[38;5;124m'\u001b[39m\u001b[38;5;124mlxml\u001b[39m\u001b[38;5;124m'\u001b[39m)\n\u001b[1;32m----> 8\u001b[0m dataframe[\u001b[38;5;124m\"\u001b[39m\u001b[38;5;124mrest_name\u001b[39m\u001b[38;5;124m\"\u001b[39m] \u001b[38;5;241m=\u001b[39m (\u001b[43mtr\u001b[49m\u001b[38;5;241m.\u001b[39mfind(\u001b[38;5;124m\"\u001b[39m\u001b[38;5;124mdiv\u001b[39m\u001b[38;5;124m\"\u001b[39m,attrs\u001b[38;5;241m=\u001b[39m{\u001b[38;5;124m\"\u001b[39m\u001b[38;5;124mclass\u001b[39m\u001b[38;5;124m\"\u001b[39m: \u001b[38;5;124m\"\u001b[39m\u001b[38;5;124msearch-place-title__name\u001b[39m\u001b[38;5;124m\"\u001b[39m}))\u001b[38;5;241m.\u001b[39mtext\u001b[38;5;241m.\u001b[39mreplace(\u001b[38;5;124m'\u001b[39m\u001b[38;5;130;01m\\n\u001b[39;00m\u001b[38;5;124m'\u001b[39m, \u001b[38;5;124m'\u001b[39m\u001b[38;5;124m \u001b[39m\u001b[38;5;124m'\u001b[39m)\n\u001b[0;32m      9\u001b[0m dataframe[\u001b[38;5;124m\"\u001b[39m\u001b[38;5;124mrest_metro\u001b[39m\u001b[38;5;124m\"\u001b[39m] \u001b[38;5;241m=\u001b[39m (tr\u001b[38;5;241m.\u001b[39mfind(\u001b[38;5;124m\"\u001b[39m\u001b[38;5;124mdiv\u001b[39m\u001b[38;5;124m\"\u001b[39m,attrs\u001b[38;5;241m=\u001b[39m{\u001b[38;5;124m\"\u001b[39m\u001b[38;5;124mclass\u001b[39m\u001b[38;5;124m\"\u001b[39m: \u001b[38;5;124m\"\u001b[39m\u001b[38;5;124msearch-place-card__info-item\u001b[39m\u001b[38;5;124m\"\u001b[39m}))\u001b[38;5;241m.\u001b[39mtext\u001b[38;5;241m.\u001b[39mreplace(\u001b[38;5;124m'\u001b[39m\u001b[38;5;130;01m\\n\u001b[39;00m\u001b[38;5;124m'\u001b[39m, \u001b[38;5;124m'\u001b[39m\u001b[38;5;124m \u001b[39m\u001b[38;5;124m'\u001b[39m)\n",
      "\u001b[1;31mNameError\u001b[0m: name 'tr' is not defined"
     ]
    }
   ],
   "source": [
    "dataframe = {}\n",
    "for item in zip_all_catig.items():\n",
    "    dataframe['catigory'] = item[0]\n",
    "    url = item[1]\n",
    "\n",
    "    "
   ]
  },
  {
   "cell_type": "code",
   "execution_count": null,
   "id": "a5ea9b80",
   "metadata": {},
   "outputs": [],
   "source": []
  }
 ],
 "metadata": {
  "kernelspec": {
   "display_name": "Python 3 (ipykernel)",
   "language": "python",
   "name": "python3"
  },
  "language_info": {
   "codemirror_mode": {
    "name": "ipython",
    "version": 3
   },
   "file_extension": ".py",
   "mimetype": "text/x-python",
   "name": "python",
   "nbconvert_exporter": "python",
   "pygments_lexer": "ipython3",
   "version": "3.9.12"
  }
 },
 "nbformat": 4,
 "nbformat_minor": 5
}
